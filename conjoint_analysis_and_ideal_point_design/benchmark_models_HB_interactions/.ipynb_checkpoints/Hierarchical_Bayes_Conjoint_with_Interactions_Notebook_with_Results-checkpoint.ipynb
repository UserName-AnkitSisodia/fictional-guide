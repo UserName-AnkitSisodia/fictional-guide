{
 "cells": [
  {
   "cell_type": "markdown",
   "id": "39133c57",
   "metadata": {},
   "source": [
    "# 20240718_HB_conjoint_interactions\n",
    "\n",
    "    Project: JMR23 - Disentangling Watches\n",
    "    Author: Alex Burnap\n",
    "    Email: alex.burnap@yale.edu\n",
    "    Date: July 18, 2024\n",
    "    License: MIT\n",
    "\n"
   ]
  },
  {
   "cell_type": "code",
   "execution_count": 1,
   "id": "e13f701a",
   "metadata": {},
   "outputs": [
    {
     "name": "stderr",
     "output_type": "stream",
     "text": [
      "/tmp/ipykernel_2679027/1752212046.py:1: DeprecationWarning: Importing display from IPython.core.display is deprecated since IPython 7.14, please import from IPython display\n",
      "  from IPython.core.display import display, HTML\n"
     ]
    },
    {
     "data": {
      "text/html": [
       "<style>.container { width:90% !important; }</style>"
      ],
      "text/plain": [
       "<IPython.core.display.HTML object>"
      ]
     },
     "metadata": {},
     "output_type": "display_data"
    }
   ],
   "source": [
    "from IPython.core.display import display, HTML\n",
    "display(HTML(\"<style>.container { width:90% !important; }</style>\"))\n",
    "%load_ext autoreload\n",
    "%autoreload 2"
   ]
  },
  {
   "cell_type": "code",
   "execution_count": 2,
   "id": "3e6a3bc2",
   "metadata": {},
   "outputs": [],
   "source": [
    "import os\n",
    "import math\n",
    "import glob\n",
    "# import skimage\n",
    "import numpy\n",
    "# import cv2\n",
    "import pandas as pd\n",
    "import statsmodels as sm\n",
    "import statsmodels.formula.api as smf\n",
    "# from PIL import Image\n",
    "import matplotlib.pyplot as plt\n",
    "\n",
    "import pymc as pm\n",
    "import arviz as az\n",
    "# import graphviz\n",
    "# import pytensor as pt\n",
    "# import aesara.tensor as at\n",
    "\n",
    "az.rcParams[\"plot.max_subplots\"] = 100"
   ]
  },
  {
   "cell_type": "code",
   "execution_count": 3,
   "id": "c99227b8",
   "metadata": {},
   "outputs": [
    {
     "name": "stderr",
     "output_type": "stream",
     "text": [
      "/home/pangaea-gaia/anaconda3/envs/pymc/lib/python3.11/site-packages/pymc/sampling/jax.py:39: UserWarning: This module is experimental.\n",
      "  warnings.warn(\"This module is experimental.\")\n"
     ]
    }
   ],
   "source": [
    "# Bayesian Libs\n",
    "import pymc as pm\n",
    "import arviz as az\n",
    "import jax\n",
    "import pymc.sampling_jax as sampling_jax"
   ]
  },
  {
   "cell_type": "code",
   "execution_count": 4,
   "id": "042ab206",
   "metadata": {},
   "outputs": [],
   "source": [
    "RANDOM_SEED = 0\n",
    "\n",
    "os.environ[\"CUDA_DEVICE_ORDER\"] = \"PCI_BUS_ID\"\n",
    "# os.environ[\"CUDA_VISIBLE_DEVICES\"] = str(RANDOM_SEED)\n",
    "os.environ[\"CUDA_VISIBLE_DEVICES\"] = \"0\""
   ]
  },
  {
   "cell_type": "code",
   "execution_count": 5,
   "id": "1950e9f6",
   "metadata": {},
   "outputs": [],
   "source": [
    "from data_interactions import get_data, generate_pairwise_names, generate_pairwise_values\n",
    "# from run_HB_conjoint import run_HB_conjoint_model"
   ]
  },
  {
   "cell_type": "code",
   "execution_count": 6,
   "id": "85a77130",
   "metadata": {},
   "outputs": [],
   "source": [
    "# Globals\n",
    "NUM_RESPONDENTS = 253\n",
    "NUM_ALTERNATIVES = 2\n",
    "NUM_ATTRIBUTES = 6\n",
    "NUM_ATTRIBUTES_PLUS_INTERACTIONS = 6 + 15 # attributes + pairwise interactions\n",
    "NUM_TASKS = 15\n",
    "NUM_TRAIN_TASKS = 13\n",
    "# NUM_TRAIN_TASKS = 15\n",
    "NUM_TEST_TASKS = 2\n",
    "NUM_COVARIATES = 6\n",
    "\n",
    "np.random.seed(RANDOM_SEED)"
   ]
  },
  {
   "cell_type": "code",
   "execution_count": 7,
   "id": "4d4f6147",
   "metadata": {},
   "outputs": [],
   "source": [
    "COVARIATE_NAMES = [\"DemoGender_male\",\n",
    "                    \"DemoGender_female\",\n",
    "                    \"DemoAge_real\",\n",
    "                    \"DemoIncome_real\",\n",
    "                    \"DemoEducation_real\",\n",
    "                    \"DemoAestheticImportance1_1_real\"]\n",
    "\n",
    "VISUAL_ATTRIBUTE_NAMES =  [\"dialcolor\",\n",
    "                         \"dialshape\",\n",
    "                         \"strapcolor\",\n",
    "                         \"dialsize\",\n",
    "                         \"knobsize\",\n",
    "                         \"rimcolor\"]"
   ]
  },
  {
   "cell_type": "code",
   "execution_count": 8,
   "id": "cab4ff42",
   "metadata": {},
   "outputs": [],
   "source": [
    "choice_and_demo_coords_with_interactions = {\"visual_attributes\": [\"dialcolor\",\n",
    "                                                                  \"dialshape\",\n",
    "                                                                  \"strapcolor\",\n",
    "                                                                  \"dialsize\",\n",
    "                                                                  \"knobsize\",\n",
    "                                                                  \"rimcolor\"],\n",
    "                                            \n",
    "                                            \"visual_attribute_interactions\": ['dialcolor_dialshape', 'dialcolor_strapcolor',\n",
    "                                                                              'dialcolor_dialsize', 'dialcolor_knobsize', 'dialcolor_rimcolor',\n",
    "                                                                              'dialshape_strapcolor', 'dialshape_dialsize', 'dialshape_knobsize',\n",
    "                                                                              'dialshape_rimcolor', 'strapcolor_dialsize', 'strapcolor_knobsize',\n",
    "                                                                              'strapcolor_rimcolor', 'dialsize_knobsize', 'dialsize_rimcolor',\n",
    "                                                                              'knobsize_rimcolor'],\n",
    "\n",
    "                                              \"covariates\": [\"DemoGender_male\",\n",
    "                                                             \"DemoGender_female\",\n",
    "                                                             \"DemoAge_real\",\n",
    "                                                             \"DemoIncome_real\",\n",
    "                                                             \"DemoEducation_real\",\n",
    "                                                             \"DemoAestheticImportance1_1_real\",\n",
    "                                                             # \"DemoTimeSpentGrooming_real\" # left out\n",
    "                                                             ],\n",
    "\n",
    "                                              \"resp_ind\": range(NUM_RESPONDENTS),\n",
    "                                              \"task_ind\": range(NUM_TRAIN_TASKS)}"
   ]
  },
  {
   "cell_type": "markdown",
   "id": "34581dc9",
   "metadata": {},
   "source": [
    "# Get Data"
   ]
  },
  {
   "cell_type": "code",
   "execution_count": 9,
   "id": "fea1d309",
   "metadata": {},
   "outputs": [],
   "source": [
    "# Create random Train/Valid/Test Indices\n",
    "TRAIN_TASK_INDICES = np.sort(np.random.choice(range(NUM_TASKS), NUM_TRAIN_TASKS, replace=False))\n",
    "TEST_TASK_INDICES = np.setdiff1d(range(NUM_TASKS), TRAIN_TASK_INDICES)"
   ]
  },
  {
   "cell_type": "code",
   "execution_count": 10,
   "id": "4420ca41",
   "metadata": {},
   "outputs": [],
   "source": [
    "X_train, X_test, Y_train, Y_test, Z_df = get_data(TRAIN_TASK_INDICES, TEST_TASK_INDICES)"
   ]
  },
  {
   "cell_type": "code",
   "execution_count": 11,
   "id": "d7a6ff52",
   "metadata": {},
   "outputs": [
    {
     "data": {
      "text/plain": [
       "(253, 13, 2, 6)"
      ]
     },
     "execution_count": 11,
     "metadata": {},
     "output_type": "execute_result"
    }
   ],
   "source": [
    "X_train.shape"
   ]
  },
  {
   "cell_type": "markdown",
   "id": "c943fd04",
   "metadata": {},
   "source": [
    "## Generate pairwise interactions"
   ]
  },
  {
   "cell_type": "code",
   "execution_count": 12,
   "id": "b9bc8918",
   "metadata": {},
   "outputs": [
    {
     "data": {
      "text/plain": [
       "(253, 13, 2, 21)"
      ]
     },
     "execution_count": 12,
     "metadata": {},
     "output_type": "execute_result"
    }
   ],
   "source": [
    "X_train = generate_pairwise_values(X_train, num_respondents= NUM_RESPONDENTS, num_tasks=NUM_TRAIN_TASKS, num_alternatives=NUM_ALTERNATIVES)\n",
    "X_train.shape"
   ]
  },
  {
   "cell_type": "code",
   "execution_count": 13,
   "id": "1ca9c97c",
   "metadata": {},
   "outputs": [
    {
     "data": {
      "text/plain": [
       "(253, 2, 2, 21)"
      ]
     },
     "execution_count": 13,
     "metadata": {},
     "output_type": "execute_result"
    }
   ],
   "source": [
    "X_test = generate_pairwise_values(X_test, num_respondents= NUM_RESPONDENTS, num_tasks=NUM_TEST_TASKS, num_alternatives=NUM_ALTERNATIVES)\n",
    "X_test.shape"
   ]
  },
  {
   "cell_type": "code",
   "execution_count": null,
   "id": "819421fe",
   "metadata": {},
   "outputs": [],
   "source": []
  },
  {
   "cell_type": "markdown",
   "id": "cd465a13",
   "metadata": {},
   "source": [
    "# Train HB Conjoint with Interactions Model"
   ]
  },
  {
   "cell_type": "code",
   "execution_count": 15,
   "id": "c4a49631",
   "metadata": {},
   "outputs": [],
   "source": [
    "def run_HB_conjoint_model(X_train,\n",
    "                          Y_train,\n",
    "                          Z_df,\n",
    "                          choice_and_demo_coords=None,\n",
    "                          use_pairwise_interactions=False,\n",
    "                          pairwise_interaction_std=None,\n",
    "                          mu_theta_hyper_std=0.25,\n",
    "                          theta_std=0.25,\n",
    "                          beta_covar_dist=0.5,\n",
    "                          beta_covar_eta=3.0,\n",
    "                          num_draws=2000,\n",
    "                          num_tune=2000,\n",
    "                          num_chains=1, # num of GPUs is most efficient for RAM -> VRAM\n",
    "                          target_accept=0.65,\n",
    "                          random_seed=RANDOM_SEED,\n",
    "                          ):\n",
    "\n",
    "    print(\"Using PyMC version: {}. Please ensure ver >= 5 for GPU support with Jax/Numpyro\".format(pm.__version__))\n",
    "    print(\"Using {} for MCMC sampling\".format(jax.default_backend()))\n",
    "    print(\"Sampling Devices: {}\".format(jax.devices()))\n",
    "    print(\"Note: No progress bar if > 1 GPU\\n\")\n",
    "    \n",
    "    if use_pairwise_interactions:\n",
    "        assert pairwise_interaction_std is not None\n",
    "        num_attributes = len(choice_and_demo_coords[\"visual_attributes\"])\n",
    "        X_train, X_train_interactions = X_train[:, :, :, :num_attributes], X_train[:, :, :, num_attributes:]\n",
    "        print(\"****************************************\\n              Using Pairwise Interactions              \\n****************************************\")\n",
    "    else:\n",
    "        print(\"****************************************\\n              NOT Using Pairwise Interactions              \\n****************************************\")\n",
    "    \n",
    "    assert choice_and_demo_coords is not None\n",
    "    num_attributes = len(choice_and_demo_coords[\"visual_attributes\"])\n",
    "    \n",
    "    \n",
    "\n",
    "    # Define HB Model - Wrap in self-context\n",
    "    with pm.Model(coords=choice_and_demo_coords) as HB_ind_seg_model:\n",
    "\n",
    "        #     X_attributes_left = pm.MutableData(\"X_attributes_left\", X[:,:,0,:], dims=(\"resp_ind\", \"task_ind\", \"visual_attributes\"))\n",
    "        #     X_attributes_right = pm.MutableData(\"X_attributes_right\", X[:,:,1,:], dims=(\"resp_ind\", \"task_ind\", \"visual_attributes\"))\n",
    "        X_attributes_left = pm.ConstantData(\"X_attributes_left\",\n",
    "                                            X_train[:, :, 0, :],\n",
    "                                            dims=(\"resp_ind\", \"task_ind\", \"visual_attributes\"))\n",
    "\n",
    "        X_attributes_right = pm.ConstantData(\"X_attributes_right\",\n",
    "                                             X_train[:, :, 1, :],\n",
    "                                             dims=(\"resp_ind\", \"task_ind\", \"visual_attributes\"))\n",
    "        \n",
    "        if use_pairwise_interactions:\n",
    "            X_interactions_left = pm.ConstantData(\"X_interactions_left\",\n",
    "                                            X_train_interactions[:, :, 0, :],\n",
    "                                            dims=(\"resp_ind\", \"task_ind\", \"visual_attribute_interactions\"))\n",
    "\n",
    "            X_interactions_right = pm.ConstantData(\"X_interactions_right\",\n",
    "                                                 X_train_interactions[:, :, 1, :],\n",
    "                                                 dims=(\"resp_ind\", \"task_ind\", \"visual_attribute_interactions\"))\n",
    "\n",
    "        covariates = pm.ConstantData(\"covariate_vars\",\n",
    "                                     Z_df.to_numpy(),\n",
    "                                     dims=('resp_ind', 'covariates'))\n",
    "\n",
    "        # Level 3: Hyperprior\n",
    "        mu_theta_hyper = pm.Normal('beta_mu_hyper',\n",
    "                                   mu=0,\n",
    "                                   sigma=mu_theta_hyper_std,\n",
    "                                   dims=('covariates', 'visual_attributes'))\n",
    "\n",
    "        #  Level 2: Population Prior\n",
    "        thetas = pm.Normal('thetas',\n",
    "                           mu=mu_theta_hyper,\n",
    "                           sigma=theta_std,\n",
    "                           dims=('covariates', 'visual_attributes'))\n",
    "\n",
    "        mu_beta = pm.Deterministic(\"mu_betas\",\n",
    "                                   pm.math.dot(covariates, thetas),\n",
    "                                   dims=('resp_ind', 'visual_attributes'))\n",
    "\n",
    "        # Covariance Matrix - LKJ Cholesky instead of Inverse-Wishart\n",
    "        chol_beta, corr_beta, stds_beta = pm.LKJCholeskyCov(\"chol_beta\",\n",
    "                                                            n=num_attributes,\n",
    "                                                            eta=beta_covar_eta,\n",
    "                                                            sd_dist=pm.Exponential.dist(beta_covar_dist),\n",
    "                                                            compute_corr=True)\n",
    "        cov_beta = pm.Deterministic(\"cov_beta\",\n",
    "                                    chol_beta.dot(chol_beta.T))\n",
    "\n",
    "        betas = pm.MvNormal(\"betas\", mu_beta,\n",
    "                            chol=chol_beta,\n",
    "                            dims=('resp_ind', 'visual_attributes'))\n",
    "\n",
    "        beta_mean = pm.Deterministic(\"beta_mean\",\n",
    "                                     betas.mean(axis=0))\n",
    "        \n",
    "        if use_pairwise_interactions:\n",
    "            beta_interactions = pm.Normal('beta_interactions',\n",
    "                                           mu=0,\n",
    "                                           sigma=pairwise_interaction_std,\n",
    "                                           dims=('visual_attribute_interactions'))\n",
    "\n",
    "        # Level 1: Choice Likelihood (Bernoulli)\n",
    "        U_left = (betas[:, None, :] * X_attributes_left).sum(axis=2)\n",
    "        U_right = (betas[:, None, :] * X_attributes_right).sum(axis=2)\n",
    "        \n",
    "        if use_pairwise_interactions:\n",
    "            U_left_interactions = (beta_interactions * X_interactions_left).sum(axis=2)\n",
    "            U_right_interactions = (beta_interactions * X_interactions_right).sum(axis=2)\n",
    "            U_left = U_left + U_left_interactions\n",
    "            U_right = U_right + U_right_interactions\n",
    "\n",
    "        p = pm.Deterministic(\"p\", (pm.math.sigmoid(U_right) / (pm.math.sigmoid(U_left) + pm.math.sigmoid(U_right))), dims=(\"resp_ind\", \"task_ind\"))\n",
    "\n",
    "        # likelihood\n",
    "        pm.Bernoulli(\"y\",\n",
    "                     p=p,\n",
    "                     observed=Y_train,\n",
    "                     #                  observed=Y,\n",
    "                     #                 observed=valid_choices_and_demo_df[\"Response\"],\n",
    "                     dims=(\"resp_ind\", \"task_ind\"))\n",
    "\n",
    "        idata_seg = sampling_jax.sample_numpyro_nuts(draws=num_draws,\n",
    "                                                     tune=num_tune,\n",
    "                                                     chains=num_chains,\n",
    "                                                     target_accept=target_accept,\n",
    "                                                     random_seed=random_seed)\n",
    "    return HB_ind_seg_model, idata_seg"
   ]
  },
  {
   "cell_type": "code",
   "execution_count": 16,
   "id": "2938fa4a",
   "metadata": {
    "scrolled": true
   },
   "outputs": [
    {
     "name": "stdout",
     "output_type": "stream",
     "text": [
      "Using PyMC version: 5.0.2. Please ensure ver >= 5 for GPU support with Jax/Numpyro\n",
      "Using gpu for MCMC sampling\n",
      "Sampling Devices: [StreamExecutorGpuDevice(id=0, process_index=0, slice_index=0)]\n",
      "Note: No progress bar if > 1 GPU\n",
      "\n",
      "****************************************\n",
      "              Using Pairwise Interactions              \n",
      "****************************************\n"
     ]
    },
    {
     "name": "stderr",
     "output_type": "stream",
     "text": [
      "/home/pangaea-gaia/anaconda3/envs/pymc/lib/python3.11/site-packages/tqdm/auto.py:21: TqdmWarning: IProgress not found. Please update jupyter and ipywidgets. See https://ipywidgets.readthedocs.io/en/stable/user_install.html\n",
      "  from .autonotebook import tqdm as notebook_tqdm\n"
     ]
    },
    {
     "name": "stdout",
     "output_type": "stream",
     "text": [
      "Compiling...\n",
      "Compilation time =  0:00:01.421718\n",
      "Sampling...\n"
     ]
    },
    {
     "name": "stderr",
     "output_type": "stream",
     "text": [
      "sample: 100%|█| 4000/4000 [09:58<00:00,  6.69it/s, 127 steps of size 4.01e-02. a\n"
     ]
    },
    {
     "name": "stdout",
     "output_type": "stream",
     "text": [
      "Sampling time =  0:10:12.299281\n",
      "Transforming variables...\n",
      "Transformation time =  0:00:01.715607\n"
     ]
    }
   ],
   "source": [
    "HB_ind_seg_model, idata_seg = run_HB_conjoint_model(X_train=X_train,\n",
    "                                                   Y_train=Y_train,\n",
    "                                                   Z_df=Z_df,\n",
    "                                                   choice_and_demo_coords=choice_and_demo_coords_with_interactions,\n",
    "                                                   use_pairwise_interactions=True,\n",
    "                                                   pairwise_interaction_std=0.25,\n",
    "                                                   mu_theta_hyper_std=0.25,\n",
    "                                                   theta_std=0.25,\n",
    "                                                   beta_covar_dist=0.5,\n",
    "                                                   beta_covar_eta=3.0,\n",
    "                                                   num_draws=2000,\n",
    "                                                   num_tune=2000,\n",
    "                                                   num_chains=1, # num of GPUs is most efficient for RAM -> VRAM\n",
    "                                                   target_accept=0.65,\n",
    "                                                   random_seed=RANDOM_SEED\n",
    "                                                   )"
   ]
  },
  {
   "cell_type": "markdown",
   "id": "f863f3de",
   "metadata": {},
   "source": [
    "# In- and Out-of-Sample Prediction WITH interaction terms (partially Frequentist)"
   ]
  },
  {
   "cell_type": "markdown",
   "id": "176c5317",
   "metadata": {},
   "source": [
    "## In-Sample"
   ]
  },
  {
   "cell_type": "code",
   "execution_count": 17,
   "id": "01f01745",
   "metadata": {},
   "outputs": [],
   "source": [
    "mu_beta_means = idata_seg.posterior[\"betas\"].to_numpy().mean(axis=0).mean(axis=0)\n",
    "mu_beta_interactions = idata_seg.posterior[\"beta_interactions\"].to_numpy().mean(axis=0).mean(axis=0)"
   ]
  },
  {
   "cell_type": "code",
   "execution_count": 18,
   "id": "31888108",
   "metadata": {},
   "outputs": [],
   "source": [
    "# In-Sample - Multiply with left and right conjoint designs\n",
    "left_utility_train = (np.expand_dims(mu_beta_means, axis=1) * X_train[:,:,0,:6]).sum(axis=2)\n",
    "right_utility_train = (np.expand_dims(mu_beta_means, axis=1) * X_train[:,:,1,:6]).sum(axis=2)\n",
    "\n",
    "left_utility_interactions_train = np.dot(X_train[:,:,0,6:], np.expand_dims(mu_beta_interactions, axis=1)).squeeze(2)\n",
    "right_utility_interactions_train = np.dot( X_train[:,:,1,6:], np.expand_dims(mu_beta_interactions, axis=1)).squeeze(2)"
   ]
  },
  {
   "cell_type": "code",
   "execution_count": 20,
   "id": "c118c197",
   "metadata": {},
   "outputs": [
    {
     "data": {
      "text/plain": [
       "0.8713894800851323"
      ]
     },
     "execution_count": 20,
     "metadata": {},
     "output_type": "execute_result"
    }
   ],
   "source": [
    "# In-Sample Accuracy\n",
    "y_hat_binary_train = ((right_utility_train + right_utility_interactions_train) > (left_utility_train + left_utility_interactions_train)) * 1\n",
    "((Y_train == y_hat_binary_train)*1).mean()"
   ]
  },
  {
   "cell_type": "markdown",
   "id": "e40b0021",
   "metadata": {},
   "source": [
    "## Out-of-Sample (Final Results)"
   ]
  },
  {
   "cell_type": "code",
   "execution_count": 21,
   "id": "8c3e3e50",
   "metadata": {},
   "outputs": [
    {
     "data": {
      "text/plain": [
       "0.6877470355731226"
      ]
     },
     "execution_count": 21,
     "metadata": {},
     "output_type": "execute_result"
    }
   ],
   "source": [
    "# Out of Sample - Multiply with left and right conjoint designs\n",
    "left_utility_test = (np.expand_dims(mu_beta_means, axis=1) * X_test[:,:,0,:6]).sum(axis=2)\n",
    "right_utility_test = (np.expand_dims(mu_beta_means, axis=1) * X_test[:,:,1,:6]).sum(axis=2)\n",
    "\n",
    "left_utility_interactions_test = np.dot(X_test[:,:,0,6:], np.expand_dims(mu_beta_interactions, axis=1)).squeeze(2)\n",
    "right_utility_interactions_test = np.dot( X_test[:,:,1,6:], np.expand_dims(mu_beta_interactions, axis=1)).squeeze(2)\n",
    "\n",
    "# Out of Sample Accuracy\n",
    "y_hat_binary_test = (right_utility_test > left_utility_test) * 1\n",
    "((Y_test == y_hat_binary_test)*1).mean()"
   ]
  },
  {
   "cell_type": "code",
   "execution_count": null,
   "id": "83e320e7",
   "metadata": {},
   "outputs": [],
   "source": []
  },
  {
   "cell_type": "code",
   "execution_count": 2,
   "id": "dcfb8712",
   "metadata": {},
   "outputs": [
    {
     "data": {
      "text/plain": [
       "(0.7081686429512516, 0.01499315767686567)"
      ]
     },
     "execution_count": 2,
     "metadata": {},
     "output_type": "execute_result"
    }
   ],
   "source": [
    "# Seed 0, 1, 2 - Results for interactions model\n",
    "accuracies_HB_conjoint_interactions = np.array([0.6877470355731226, 0.7134387351778656, 0.7233201581027668])\n",
    "accuracies_HB_conjoint_interactions.mean(), accuracies_HB_conjoint_interactions.std()"
   ]
  },
  {
   "cell_type": "code",
   "execution_count": null,
   "id": "aaa1a210",
   "metadata": {},
   "outputs": [],
   "source": []
  }
 ],
 "metadata": {
  "kernelspec": {
   "display_name": "Python 3 (ipykernel)",
   "language": "python",
   "name": "python3"
  },
  "language_info": {
   "codemirror_mode": {
    "name": "ipython",
    "version": 3
   },
   "file_extension": ".py",
   "mimetype": "text/x-python",
   "name": "python",
   "nbconvert_exporter": "python",
   "pygments_lexer": "ipython3",
   "version": "3.11.2"
  },
  "varInspector": {
   "cols": {
    "lenName": 16,
    "lenType": 16,
    "lenVar": 40
   },
   "kernels_config": {
    "python": {
     "delete_cmd_postfix": "",
     "delete_cmd_prefix": "del ",
     "library": "var_list.py",
     "varRefreshCmd": "print(var_dic_list())"
    },
    "r": {
     "delete_cmd_postfix": ") ",
     "delete_cmd_prefix": "rm(",
     "library": "var_list.r",
     "varRefreshCmd": "cat(var_dic_list()) "
    }
   },
   "types_to_exclude": [
    "module",
    "function",
    "builtin_function_or_method",
    "instance",
    "_Feature"
   ],
   "window_display": false
  }
 },
 "nbformat": 4,
 "nbformat_minor": 5
}
